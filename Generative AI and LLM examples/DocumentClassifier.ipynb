{
 "cells": [
  {
   "cell_type": "markdown",
   "id": "b67a1cd5-8f59-46b4-ab38-d2d5bb6bde86",
   "metadata": {},
   "source": [
    "# Document Classifier using TorchText example"
   ]
  },
  {
   "cell_type": "markdown",
   "id": "c53eb420-8c7b-4999-98a4-3633d45ad1ab",
   "metadata": {},
   "source": [
    "- This notebook demonstrates creation of aneural network in PyTorch to build a document classifier\n",
    "\n",
    "- Will create labels to assign the news articles based on running ReLu activation math on the output layer\n",
    "AG_NEWS dataset from HuggingFace is stored in Parquet format. Hugging Face datasets library depends on PyArrow to read Parquet files thus PyArrow is required to read the dataset used in this notebook.\n",
    "\n"
   ]
  },
  {
   "cell_type": "code",
   "execution_count": 108,
   "id": "acca07a5-9079-4e78-82ed-958066423c45",
   "metadata": {},
   "outputs": [],
   "source": [
    "# Import PyTorch and torchtext\n",
    "import torch\n",
    "from torchtext.datasets import AG_NEWS\n",
    "from torchtext.data.utils import get_tokenizer\n",
    "from collections import Counter\n",
    "from torch.utils.data import DataLoader"
   ]
  },
  {
   "cell_type": "code",
   "execution_count": 109,
   "id": "8adadd52-db4e-4af7-bcc6-c598521819fd",
   "metadata": {},
   "outputs": [
    {
     "name": "stdout",
     "output_type": "stream",
     "text": [
      "Defaulting to user installation because normal site-packages is not writeable\n",
      "Requirement already satisfied: datasets in /Users/christopherleggett/Library/Python/3.9/lib/python/site-packages (4.0.0)\n",
      "Requirement already satisfied: filelock in /Users/christopherleggett/Library/Python/3.9/lib/python/site-packages (from datasets) (3.19.1)\n",
      "Requirement already satisfied: numpy>=1.17 in /Users/christopherleggett/Library/Python/3.9/lib/python/site-packages (from datasets) (2.0.2)\n",
      "Requirement already satisfied: pyarrow>=15.0.0 in /Users/christopherleggett/Library/Python/3.9/lib/python/site-packages (from datasets) (21.0.0)\n",
      "Requirement already satisfied: dill<0.3.9,>=0.3.0 in /Users/christopherleggett/Library/Python/3.9/lib/python/site-packages (from datasets) (0.3.8)\n",
      "Requirement already satisfied: pandas in /Users/christopherleggett/Library/Python/3.9/lib/python/site-packages (from datasets) (2.2.3)\n",
      "Requirement already satisfied: requests>=2.32.2 in /Users/christopherleggett/Library/Python/3.9/lib/python/site-packages (from datasets) (2.32.5)\n",
      "Requirement already satisfied: tqdm>=4.66.3 in /Users/christopherleggett/Library/Python/3.9/lib/python/site-packages (from datasets) (4.67.1)\n",
      "Requirement already satisfied: xxhash in /Users/christopherleggett/Library/Python/3.9/lib/python/site-packages (from datasets) (3.5.0)\n",
      "Requirement already satisfied: multiprocess<0.70.17 in /Users/christopherleggett/Library/Python/3.9/lib/python/site-packages (from datasets) (0.70.16)\n",
      "Requirement already satisfied: fsspec<=2025.3.0,>=2023.1.0 in /Users/christopherleggett/Library/Python/3.9/lib/python/site-packages (from fsspec[http]<=2025.3.0,>=2023.1.0->datasets) (2025.3.0)\n",
      "Requirement already satisfied: huggingface-hub>=0.24.0 in /Users/christopherleggett/Library/Python/3.9/lib/python/site-packages (from datasets) (0.34.4)\n",
      "Requirement already satisfied: packaging in /Users/christopherleggett/Library/Python/3.9/lib/python/site-packages (from datasets) (25.0)\n",
      "Requirement already satisfied: pyyaml>=5.1 in /Users/christopherleggett/Library/Python/3.9/lib/python/site-packages (from datasets) (6.0.2)\n",
      "Requirement already satisfied: aiohttp!=4.0.0a0,!=4.0.0a1 in /Users/christopherleggett/Library/Python/3.9/lib/python/site-packages (from fsspec[http]<=2025.3.0,>=2023.1.0->datasets) (3.12.15)\n",
      "Requirement already satisfied: aiohappyeyeballs>=2.5.0 in /Users/christopherleggett/Library/Python/3.9/lib/python/site-packages (from aiohttp!=4.0.0a0,!=4.0.0a1->fsspec[http]<=2025.3.0,>=2023.1.0->datasets) (2.6.1)\n",
      "Requirement already satisfied: aiosignal>=1.4.0 in /Users/christopherleggett/Library/Python/3.9/lib/python/site-packages (from aiohttp!=4.0.0a0,!=4.0.0a1->fsspec[http]<=2025.3.0,>=2023.1.0->datasets) (1.4.0)\n",
      "Requirement already satisfied: async-timeout<6.0,>=4.0 in /Users/christopherleggett/Library/Python/3.9/lib/python/site-packages (from aiohttp!=4.0.0a0,!=4.0.0a1->fsspec[http]<=2025.3.0,>=2023.1.0->datasets) (5.0.1)\n",
      "Requirement already satisfied: attrs>=17.3.0 in /Users/christopherleggett/Library/Python/3.9/lib/python/site-packages (from aiohttp!=4.0.0a0,!=4.0.0a1->fsspec[http]<=2025.3.0,>=2023.1.0->datasets) (25.3.0)\n",
      "Requirement already satisfied: frozenlist>=1.1.1 in /Users/christopherleggett/Library/Python/3.9/lib/python/site-packages (from aiohttp!=4.0.0a0,!=4.0.0a1->fsspec[http]<=2025.3.0,>=2023.1.0->datasets) (1.7.0)\n",
      "Requirement already satisfied: multidict<7.0,>=4.5 in /Users/christopherleggett/Library/Python/3.9/lib/python/site-packages (from aiohttp!=4.0.0a0,!=4.0.0a1->fsspec[http]<=2025.3.0,>=2023.1.0->datasets) (6.6.4)\n",
      "Requirement already satisfied: propcache>=0.2.0 in /Users/christopherleggett/Library/Python/3.9/lib/python/site-packages (from aiohttp!=4.0.0a0,!=4.0.0a1->fsspec[http]<=2025.3.0,>=2023.1.0->datasets) (0.3.2)\n",
      "Requirement already satisfied: yarl<2.0,>=1.17.0 in /Users/christopherleggett/Library/Python/3.9/lib/python/site-packages (from aiohttp!=4.0.0a0,!=4.0.0a1->fsspec[http]<=2025.3.0,>=2023.1.0->datasets) (1.20.1)\n",
      "Requirement already satisfied: typing-extensions>=4.1.0 in /Users/christopherleggett/Library/Python/3.9/lib/python/site-packages (from multidict<7.0,>=4.5->aiohttp!=4.0.0a0,!=4.0.0a1->fsspec[http]<=2025.3.0,>=2023.1.0->datasets) (4.14.1)\n",
      "Requirement already satisfied: idna>=2.0 in /Users/christopherleggett/Library/Python/3.9/lib/python/site-packages (from yarl<2.0,>=1.17.0->aiohttp!=4.0.0a0,!=4.0.0a1->fsspec[http]<=2025.3.0,>=2023.1.0->datasets) (3.10)\n",
      "Requirement already satisfied: hf-xet<2.0.0,>=1.1.3 in /Users/christopherleggett/Library/Python/3.9/lib/python/site-packages (from huggingface-hub>=0.24.0->datasets) (1.1.9)\n",
      "Requirement already satisfied: charset_normalizer<4,>=2 in /Users/christopherleggett/Library/Python/3.9/lib/python/site-packages (from requests>=2.32.2->datasets) (3.4.3)\n",
      "Requirement already satisfied: urllib3<3,>=1.21.1 in /Users/christopherleggett/Library/Python/3.9/lib/python/site-packages (from requests>=2.32.2->datasets) (2.5.0)\n",
      "Requirement already satisfied: certifi>=2017.4.17 in /Users/christopherleggett/Library/Python/3.9/lib/python/site-packages (from requests>=2.32.2->datasets) (2025.8.3)\n",
      "Requirement already satisfied: python-dateutil>=2.8.2 in /Users/christopherleggett/Library/Python/3.9/lib/python/site-packages (from pandas->datasets) (2.9.0.post0)\n",
      "Requirement already satisfied: pytz>=2020.1 in /Users/christopherleggett/Library/Python/3.9/lib/python/site-packages (from pandas->datasets) (2025.2)\n",
      "Requirement already satisfied: tzdata>=2022.7 in /Users/christopherleggett/Library/Python/3.9/lib/python/site-packages (from pandas->datasets) (2025.2)\n",
      "Requirement already satisfied: six>=1.5 in /Library/Developer/CommandLineTools/Library/Frameworks/Python3.framework/Versions/3.9/lib/python3.9/site-packages (from python-dateutil>=2.8.2->pandas->datasets) (1.15.0)\n"
     ]
    },
    {
     "data": {
      "text/plain": [
       "0"
      ]
     },
     "execution_count": 109,
     "metadata": {},
     "output_type": "execute_result"
    }
   ],
   "source": [
    "import sys, os\n",
    "os.system(f\"{sys.executable} -m pip install datasets\")"
   ]
  },
  {
   "cell_type": "code",
   "execution_count": 110,
   "id": "ea733b7c-f0b6-4854-9c78-377b1e52af50",
   "metadata": {},
   "outputs": [
    {
     "name": "stdout",
     "output_type": "stream",
     "text": [
      "2 Wall St. Bears Claw Back Into the Black (Reuters) Reuters - Short-sellers, Wall Street's dwindling\\band of ultra-cynics, are seeing green again.\n",
      "Business\n",
      "Train: 96000, Validation: 24000, Test: 7600\n"
     ]
    }
   ],
   "source": [
    "from datasets import load_dataset\n",
    "\n",
    "# Load AG_NEWS dataset from Hugging Face\n",
    "dataset = load_dataset(\"ag_news\")\n",
    "\n",
    "# Create train/validation/test splits to prevent data leakage\n",
    "full_train = dataset[\"train\"]\n",
    "test_data = dataset[\"test\"]\n",
    "\n",
    "# Split training data into train (80%) and validation (20%)\n",
    "train_size = int(0.8 * len(full_train))\n",
    "val_size = len(full_train) - train_size\n",
    "\n",
    "# Create splits\n",
    "train_data = full_train.select(range(train_size))\n",
    "val_data = full_train.select(range(train_size, train_size + val_size))\n",
    "\n",
    "# Examine first example from training data\n",
    "y, text = train_data[0][\"label\"], train_data[0][\"text\"]\n",
    "print(y, text)\n",
    "\n",
    "# Labels stored as a python dictionary\n",
    "ag_news_label = {0: \"World\", 1: \"Sports\", 2: \"Business\", 3: \"Sci/Tech\"}\n",
    "print(ag_news_label[y])\n",
    "\n",
    "# Print dataset sizes\n",
    "print(f\"Train: {len(train_data)}, Validation: {len(val_data)}, Test: {len(test_data)}\")"
   ]
  },
  {
   "cell_type": "markdown",
   "id": "347dfb46-321d-4bdd-9af5-ed0d994134d8",
   "metadata": {},
   "source": [
    "## Build the standard text processing pipeline"
   ]
  },
  {
   "cell_type": "code",
   "execution_count": 84,
   "id": "6fd23664-fd44-4f9b-a48e-03ecc5609c75",
   "metadata": {},
   "outputs": [],
   "source": [
    "#Import libraries for text processing and model building \n",
    "\n",
    "from datasets import load_dataset\n",
    "from torchtext.data.utils import get_tokenizer\n",
    "from torchtext.vocab import build_vocab_from_iterator\n",
    "import torch\n",
    "from torch.utils.data import DataLoader"
   ]
  },
  {
   "cell_type": "code",
   "execution_count": 85,
   "id": "e6ff8925-9204-4767-8d70-d7232099550b",
   "metadata": {},
   "outputs": [
    {
     "name": "stdout",
     "output_type": "stream",
     "text": [
      "Vocabulary size: 84759\n"
     ]
    }
   ],
   "source": [
    "# Setup Tokenizer and Build Vocabulary\n",
    "\n",
    "# Initialize tokenizer\n",
    "tokenizer = get_tokenizer(\"basic_english\")\n",
    "\n",
    "# Function to yield tokens from dataset\n",
    "def yield_tokens(data_iter):\n",
    "    for item in data_iter:\n",
    "        yield tokenizer(item[\"text\"])  # Fixed: access text field correctly\n",
    "\n",
    "# Build vocabulary from training data\n",
    "vocab = build_vocab_from_iterator(yield_tokens(train_data), specials=[\"<unk>\"])\n",
    "vocab.set_default_index(vocab[\"<unk>\"])\n",
    "\n",
    "print(f\"Vocabulary size: {len(vocab)}\")"
   ]
  },
  {
   "cell_type": "code",
   "execution_count": 86,
   "id": "c091a44d-21fd-44f8-b556-646beaf8606f",
   "metadata": {},
   "outputs": [
    {
     "name": "stdout",
     "output_type": "stream",
     "text": [
      "Original text: Wall St. Bears Claw Back Into the Black (Reuters) ...\n",
      "Tokenized: ['wall', 'st', '.', 'bears', 'claw', 'back', 'into', 'the', 'black', '(']\n",
      "Text pipeline output: [413, 409, 1, 1662, 14051, 112, 64, 2, 771, 13]\n",
      "Label pipeline output: 2\n"
     ]
    }
   ],
   "source": [
    "#Create text and label processing pipelines\n",
    "\n",
    "def text_pipeline(x):\n",
    "    return vocab(tokenizer(x))\n",
    "\n",
    "# Label processing pipeline: already 0-indexed in Hugging Face, no need to subtract 1\n",
    "def label_pipeline(x):\n",
    "    return int(x)  # Fixed: removed -1 since HF labels are already 0-indexed\n",
    "\n",
    "# Test the pipelines\n",
    "sample_text = train_data[0][\"text\"]\n",
    "sample_label = train_data[0][\"label\"]\n",
    "print(f\"Original text: {sample_text[:50]}...\")\n",
    "print(f\"Tokenized: {tokenizer(sample_text)[:10]}\")\n",
    "print(f\"Text pipeline output: {text_pipeline(sample_text)[:10]}\")\n",
    "print(f\"Label pipeline output: {label_pipeline(sample_label)}\")\n"
   ]
  },
  {
   "cell_type": "markdown",
   "id": "aba496bc-2f89-4e67-88e2-118f6cbc16dc",
   "metadata": {},
   "source": [
    "## Set up a batch function for embedding bags and code for appending labels from each sample to a batch"
   ]
  },
  {
   "cell_type": "code",
   "execution_count": 111,
   "id": "f18796aa-1f3f-41b6-91ce-e6a58b4b1fbc",
   "metadata": {},
   "outputs": [
    {
     "name": "stdout",
     "output_type": "stream",
     "text": [
      "Batch labels: tensor([2, 2, 2])\n",
      "Batch text length: 111\n",
      "Offsets: tensor([ 0, 29, 71])\n"
     ]
    }
   ],
   "source": [
    "#Create Batch Collaation Function \n",
    "\n",
    "# Batch collation function for DataLoader\n",
    "def collate_batch(batch):\n",
    "    label_list, text_list, offsets = [], [], [0]\n",
    "    \n",
    "    for item in batch:  # Fixed: iterate over batch items correctly\n",
    "        _label = item[\"label\"]  # Fixed: access label field\n",
    "        _text = item[\"text\"]    # Fixed: access text field\n",
    "        \n",
    "        # Process label and text\n",
    "        label_list.append(label_pipeline(_label))\n",
    "        processed_text = torch.tensor(text_pipeline(_text), dtype=torch.int64)\n",
    "        text_list.append(processed_text)\n",
    "        offsets.append(processed_text.size(0))  # Fixed: offsets -> offsets\n",
    "    \n",
    "    # Convert to tensors\n",
    "    label_list = torch.tensor(label_list, dtype=torch.int64)\n",
    "    offsets = torch.tensor(offsets[:-1]).cumsum(dim=0)\n",
    "    text_list = torch.cat(text_list)\n",
    "    \n",
    "    return label_list, text_list, offsets\n",
    "\n",
    "# Test the collate function\n",
    "test_batch = [train_data[i] for i in range(3)]\n",
    "labels, texts, offsets = collate_batch(test_batch)\n",
    "print(f\"Batch labels: {labels}\")\n",
    "print(f\"Batch text length: {len(texts)}\")\n",
    "print(f\"Offsets: {offsets}\")"
   ]
  },
  {
   "cell_type": "code",
   "execution_count": 112,
   "id": "11b5eb48-e203-4e8b-b480-bd05866e484c",
   "metadata": {},
   "outputs": [
    {
     "name": "stdout",
     "output_type": "stream",
     "text": [
      "Train: 32000 batches, Val: 8000 batches, Test: 2534 batches\n",
      "Batch 1: Labels torch.Size([3]), Texts torch.Size([121]), Offsets torch.Size([3])\n",
      "Batch 2: Labels torch.Size([3]), Texts torch.Size([136]), Offsets torch.Size([3])\n"
     ]
    }
   ],
   "source": [
    "#Create DataLoader with a batch size of 3\n",
    "BATCH_SIZE = 3\n",
    "\n",
    "def convert_dataset(hf_dataset):\n",
    "    return [{\"label\": item[\"label\"], \"text\": item[\"text\"]} for item in hf_dataset]\n",
    "\n",
    "# Convert all datasets\n",
    "train_dataset = convert_dataset(train_data)\n",
    "val_dataset = convert_dataset(val_data)\n",
    "test_dataset = convert_dataset(test_data)\n",
    "\n",
    "# Create DataLoaders\n",
    "train_dataloader = DataLoader(train_dataset, batch_size=BATCH_SIZE, shuffle=True, collate_fn=collate_batch)\n",
    "val_dataloader = DataLoader(val_dataset, batch_size=BATCH_SIZE, shuffle=False, collate_fn=collate_batch)\n",
    "test_dataloader = DataLoader(test_dataset, batch_size=BATCH_SIZE, shuffle=False, collate_fn=collate_batch)\n",
    "\n",
    "print(f\"Train: {len(train_dataloader)} batches, Val: {len(val_dataloader)} batches, Test: {len(test_dataloader)} batches\")\n",
    "\n",
    "#Test DataLoader\n",
    "for i, (labels, texts, offsets) in enumerate(train_dataloader):\n",
    "    print(f\"Batch {i+1}: Labels {labels.shape}, Texts {texts.shape}, Offsets {offsets.shape}\")\n",
    "    if i == 1: break  # Show 2 batches only"
   ]
  },
  {
   "cell_type": "code",
   "execution_count": 113,
   "id": "0671014c-ed48-4fa1-a136-2e5f1e891a11",
   "metadata": {},
   "outputs": [],
   "source": [
    "import torch.nn as nn\n",
    "\n",
    "class TextClassificationModel(nn.Module):\n",
    "    def __init__(self, vocab_size, embed_dim, num_class):  \n",
    "        super(TextClassificationModel, self).__init__()\n",
    "        self.embedding = nn.EmbeddingBag(vocab_size, embed_dim, sparse=False)\n",
    "        self.fc = nn.Linear(embed_dim, num_class)\n",
    "        self.init_weights()\n",
    "        \n",
    "    def init_weights(self):\n",
    "        initrange = 0.5\n",
    "        self.embedding.weight.data.uniform_(-initrange, initrange)\n",
    "        self.fc.weight.data.uniform_(-initrange, initrange)\n",
    "        self.fc.bias.data.zero_()\n",
    "        \n",
    "    def forward(self, text, offsets):\n",
    "        embedded = self.embedding(text, offsets)\n",
    "        return self.fc(embedded)"
   ]
  },
  {
   "cell_type": "code",
   "execution_count": 114,
   "id": "9372a05e-05f2-4dcd-971d-f37d01790032",
   "metadata": {},
   "outputs": [],
   "source": [
    "# Create instance of text classification\n",
    "\n",
    "emsize = 64 \n",
    "vocab_size = len(vocab)\n",
    "num_class = 4 \n",
    "model = TextClassificationModel(vocab_size, emsize, num_class)\n"
   ]
  },
  {
   "cell_type": "markdown",
   "id": "0fdbdcfd-ac60-4481-8d1a-b7667b198c41",
   "metadata": {},
   "source": [
    "## Training the Model"
   ]
  },
  {
   "cell_type": "code",
   "execution_count": 115,
   "id": "d1a6e564-1c90-48aa-afd4-e2da69a2cdac",
   "metadata": {},
   "outputs": [
    {
     "name": "stderr",
     "output_type": "stream",
     "text": [
      "Epoch 1: 100%|███████████████████████████████████████████████████████████████████████| 32000/32000 [00:56<00:00, 570.65it/s]\n"
     ]
    },
    {
     "name": "stdout",
     "output_type": "stream",
     "text": [
      "Epoch 1: Loss=0.607, Train=78.5%, Val=85.8%, LR=0.1000\n"
     ]
    },
    {
     "name": "stderr",
     "output_type": "stream",
     "text": [
      "Epoch 2: 100%|███████████████████████████████████████████████████████████████████████| 32000/32000 [00:57<00:00, 555.25it/s]\n"
     ]
    },
    {
     "name": "stdout",
     "output_type": "stream",
     "text": [
      "Epoch 2: Loss=0.336, Train=89.1%, Val=87.8%, LR=0.1000\n"
     ]
    },
    {
     "name": "stderr",
     "output_type": "stream",
     "text": [
      "Epoch 3: 100%|███████████████████████████████████████████████████████████████████████| 32000/32000 [00:56<00:00, 569.80it/s]\n"
     ]
    },
    {
     "name": "stdout",
     "output_type": "stream",
     "text": [
      "Epoch 3: Loss=0.292, Train=90.7%, Val=88.7%, LR=0.0500\n"
     ]
    },
    {
     "name": "stderr",
     "output_type": "stream",
     "text": [
      "Epoch 4: 100%|███████████████████████████████████████████████████████████████████████| 32000/32000 [00:53<00:00, 595.52it/s]\n"
     ]
    },
    {
     "name": "stdout",
     "output_type": "stream",
     "text": [
      "Epoch 4: Loss=0.262, Train=91.8%, Val=88.9%, LR=0.0500\n"
     ]
    },
    {
     "name": "stderr",
     "output_type": "stream",
     "text": [
      "Epoch 5: 100%|███████████████████████████████████████████████████████████████████████| 32000/32000 [00:54<00:00, 585.94it/s]\n"
     ]
    },
    {
     "name": "stdout",
     "output_type": "stream",
     "text": [
      "Epoch 5: Loss=0.251, Train=92.2%, Val=88.9%, LR=0.0500\n"
     ]
    }
   ],
   "source": [
    "import torch.optim as optim\n",
    "from tqdm import tqdm\n",
    "from torch.nn import CrossEntropyLoss\n",
    "\n",
    "criterion = CrossEntropyLoss()\n",
    "optimizer = optim.SGD(model.parameters(), lr=0.1)\n",
    "scheduler = optim.lr_scheduler.StepLR(optimizer, step_size=3, gamma=0.5)\n",
    "\n",
    "losses, accuracies = [], []\n",
    "\n",
    "#Use higher epochs when training in Production\n",
    "for epoch in range(5):\n",
    "    model.train()\n",
    "    total_loss, correct = 0, 0\n",
    "    for labels, texts, offsets in tqdm(train_dataloader, desc=f'Epoch {epoch+1}'):\n",
    "        optimizer.zero_grad()\n",
    "        output = model(texts, offsets)\n",
    "        loss = criterion(output, labels)\n",
    "        loss.backward()\n",
    "        torch.nn.utils.clip_grad_norm_(model.parameters(), max_norm=1.0)\n",
    "        optimizer.step()\n",
    "        \n",
    "        total_loss += loss.item()\n",
    "        correct += (output.argmax(1) == labels).sum().item()\n",
    "    \n",
    "    scheduler.step()\n",
    "    \n",
    "    # Validation evaluation\n",
    "    model.eval()\n",
    "    val_correct = 0\n",
    "    with torch.no_grad():\n",
    "        for labels, texts, offsets in val_dataloader:\n",
    "            output = model(texts, offsets)\n",
    "            val_correct += (output.argmax(1) == labels).sum().item()\n",
    "    \n",
    "    epoch_loss = total_loss/len(train_dataloader)\n",
    "    epoch_acc = 100*correct/len(train_dataset)\n",
    "    val_acc = 100*val_correct/len(val_dataset)\n",
    "    losses.append(epoch_loss)\n",
    "    accuracies.append(epoch_acc)\n",
    "    \n",
    "    current_lr = optimizer.param_groups[0]['lr']\n",
    "    print(f'Epoch {epoch+1}: Loss={epoch_loss:.3f}, Train={epoch_acc:.1f}%, Val={val_acc:.1f}%, LR={current_lr:.4f}')"
   ]
  },
  {
   "cell_type": "code",
   "execution_count": 116,
   "id": "7bdcc534-ed62-4aa4-854d-a5f77227dd03",
   "metadata": {},
   "outputs": [
    {
     "data": {
      "image/png": "[encoded data removed]",
      "text/plain": [
       "<Figure size 800x500 with 1 Axes>"
      ]
     },
     "metadata": {},
     "output_type": "display_data"
    }
   ],
   "source": [
    "import matplotlib.pyplot as plt\n",
    "\n",
    "plt.figure(figsize=(8, 5))\n",
    "plt.plot(range(1, 6), losses, 'b-o', label='Loss')\n",
    "plt.plot(range(1, 6), [acc/100 for acc in accuracies], 'r-o', label='Accuracy')\n",
    "plt.xlabel('Epoch')\n",
    "plt.ylabel('Value')\n",
    "plt.title('Training Progress')\n",
    "plt.legend()\n",
    "plt.grid(True)\n",
    "plt.show()"
   ]
  },
  {
   "cell_type": "code",
   "execution_count": 120,
   "id": "0cc38893-0a56-4c99-abab-aa7f36a4ca94",
   "metadata": {},
   "outputs": [
    {
     "data": {
      "text/plain": [
       "'Business'"
      ]
     },
     "execution_count": 120,
     "metadata": {},
     "output_type": "execute_result"
    }
   ],
   "source": [
    "# Prediction function works on real text \n",
    "\n",
    "def predict(text, text_pipeline):\n",
    "    with torch.no_grad():\n",
    "        text = torch.tensor(text_pipeline(text))  \n",
    "        output = model(text, torch.tensor([0]))  \n",
    "        return ag_news_label[output.argmax(1).item()]\n",
    "\n",
    "predict(\"I like money\", text_pipeline)"
   ]
  },
  {
   "cell_type": "code",
   "execution_count": 121,
   "id": "ac8a7c4e-570f-48a6-bb06-3f6d7935e5db",
   "metadata": {},
   "outputs": [
    {
     "name": "stdout",
     "output_type": "stream",
     "text": [
      "'Stock market reaches new highs today' → Business\n",
      "'Football team wins championship' → Sports\n",
      "'Scientists discover new planet' → Sci/Tech\n",
      "'Breaking news from around the world' → Sci/Tech\n"
     ]
    }
   ],
   "source": [
    "# Test on custom text samples\n",
    "test_samples = [\n",
    "    \"Stock market reaches new highs today\",\n",
    "    \"Football team wins championship\", \n",
    "    \"Scientists discover new planet\",\n",
    "    \"Breaking news from around the world\"\n",
    "]\n",
    "\n",
    "model.eval()\n",
    "for text in test_samples:\n",
    "    prediction = predict(text, text_pipeline)\n",
    "    print(f\"'{text}' → {prediction}\")"
   ]
  },
  {
   "cell_type": "code",
   "execution_count": 122,
   "id": "b9fbbce2-8e0c-46de-a9d8-cec887ab2f0b",
   "metadata": {},
   "outputs": [
    {
     "name": "stdout",
     "output_type": "stream",
     "text": [
      "✓ Sports (actual: Sports)\n",
      "   Conte turned athletes into towers of power HE IS THE face of spor...\n",
      "\n",
      "✓ Sports (actual: Sports)\n",
      "   Kuznetsova Beats Sharapova to Make China Open Final  BEIJING (Reu...\n",
      "\n",
      "✓ Business (actual: Business)\n",
      "   Hurricane Worries Boost Oil Prices Worries that Hurricane Ivan wi...\n",
      "\n",
      "✓ World (actual: World)\n",
      "   Sudanese Decry UN Threat of Sanctions Sudan said Sunday that the ...\n",
      "\n",
      "✓ Business (actual: Business)\n",
      "   Nissan comes apart without parts Tokyo - Japan #39;s Nissan Motor...\n",
      "\n",
      "✓ Sci/Tech (actual: Sci/Tech)\n",
      "   Log on to be a satellite spy A Canadian inventor has created Inte...\n",
      "\n",
      "✓ Sports (actual: Sports)\n",
      "   Sheffield day to day with sprained left ankle New York Yankees ri...\n",
      "\n",
      "✗ World (actual: Sci/Tech)\n",
      "   Hit TV series 24 goes from small screen to smaller screen (AFP) A...\n",
      "\n",
      "✓ World (actual: World)\n",
      "   Delegates Urge Cleric to Pull Out of Najaf BAGHDAD, Iraq - Delega...\n",
      "\n",
      "✓ World (actual: World)\n",
      "   Unrest Spreads To Southern Iraq (CBS/AP) As US forces continued t...\n",
      "\n",
      "Tested 50 random samples\n",
      "Got 43 right (86.0% accuracy)\n"
     ]
    }
   ],
   "source": [
    "import random\n",
    "\n",
    "test_data = dataset[\"test\"]\n",
    "sample_size = 50\n",
    "indices = random.sample(range(len(test_data)), sample_size)\n",
    "\n",
    "model.eval()\n",
    "correct = 0\n",
    "\n",
    "for i, idx in enumerate(indices):\n",
    "   sample = test_data[idx]\n",
    "   true = ag_news_label[sample[\"label\"]]\n",
    "   pred = predict(sample[\"text\"], text_pipeline)\n",
    "   \n",
    "   correct += (pred == true)\n",
    "   \n",
    "   if i < 10:\n",
    "       status = \"✓\" if pred == true else \"✗\"\n",
    "       print(f\"{status} {pred} (actual: {true})\")\n",
    "       print(f\"   {sample['text'][:65]}...\")\n",
    "       print()\n",
    "\n",
    "print(f\"Tested {sample_size} random samples\")\n",
    "print(f\"Got {correct} right ({100*correct/sample_size:.1f}% accuracy)\")"
   ]
  },
  {
   "cell_type": "code",
   "execution_count": null,
   "id": "a43b941a-74ab-46d5-8433-e22c9384b6b3",
   "metadata": {},
   "outputs": [],
   "source": []
  }
 ],
 "metadata": {
  "kernelspec": {
   "display_name": "Python 3 (ipykernel)",
   "language": "python",
   "name": "python3"
  },
  "language_info": {
   "codemirror_mode": {
    "name": "ipython",
    "version": 3
   },
   "file_extension": ".py",
   "mimetype": "text/x-python",
   "name": "python",
   "nbconvert_exporter": "python",
   "pygments_lexer": "ipython3",
   "version": "3.9.6"
  }
 },
 "nbformat": 4,
 "nbformat_minor": 5
}
