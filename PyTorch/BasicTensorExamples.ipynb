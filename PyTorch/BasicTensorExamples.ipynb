{
 "cells": [
  {
   "cell_type": "markdown",
   "id": "6d9cda03-0cac-4412-bddd-c0e504d0ef98",
   "metadata": {},
   "source": [
    "# Basic introduction to tensors and tensor handling"
   ]
  },
  {
   "cell_type": "code",
   "execution_count": null,
   "id": "b6df7226-827d-4d31-9eca-26054d9685b9",
   "metadata": {},
   "outputs": [
    {
     "name": "stdout",
     "output_type": "stream",
     "text": [
      "Defaulting to user installation because normal site-packages is not writeable\n",
      "Collecting torch\n",
      "  Downloading torch-2.8.0-cp39-none-macosx_11_0_arm64.whl (73.6 MB)\n",
      "\u001b[K     |████████████████▏               | 37.1 MB 22.6 MB/s eta 0:00:02"
     ]
    }
   ],
   "source": [
    "pip install torch"
   ]
  },
  {
   "cell_type": "code",
   "execution_count": 20,
   "id": "eee6f719-166f-4c04-b69f-be1fe243af75",
   "metadata": {},
   "outputs": [
    {
     "name": "stdout",
     "output_type": "stream",
     "text": [
      "tensor([7, 4, 3, 2, 6])\n",
      "tensor([7, 4, 3, 2, 6])\n",
      "7 4 3 2 6 \n"
     ]
    }
   ],
   "source": [
    "import torch\n",
    "\n",
    "#Create a 1D tensor called a , create a python list and cast it using the tensor constructor\n",
    "a= torch.tensor([7, 4, 3, 2, 6])\n",
    "\n",
    "#As with list we can access the elements with an int and square bracket\n",
    "print(a[:5]) # First 5 elements\n",
    "print(a) #Print the entire tensor\n",
    "\n",
    "#Use item() method to convert each tensor element to a Python scalar\n",
    "for element in a:\n",
    "    print(element.item(), end=' ')\n",
    "print()"
   ]
  },
  {
   "cell_type": "code",
   "execution_count": 79,
   "id": "1ee63e9e-4656-4e59-8801-a8366d5a7ef2",
   "metadata": {},
   "outputs": [
    {
     "name": "stdout",
     "output_type": "stream",
     "text": [
      "Integer tensor:\n",
      "torch.int64\n",
      "torch.LongTensor\n",
      "\n",
      "Float tensor:\n",
      "torch.float32\n",
      "torch.FloatTensor\n",
      "\n",
      "Override to int32:\n",
      "torch.int32\n",
      "\n",
      "Using FloatTensor Method:\n",
      "torch.FloatTensor\n",
      "tensor([0., 1., 2., 3., 4.])\n",
      "\n",
      "Type converted from long to float using type():\n",
      "torch.FloatTensor\n"
     ]
    }
   ],
   "source": [
    "#Use the data attribute dtype to find the type of data stored in the tensor\n",
    "a = torch.tensor([0, 1, 2, 3, 4])\n",
    "print(\"Integer tensor:\")\n",
    "print(a.dtype)\n",
    "print(a.type())\n",
    "\n",
    "a = torch.tensor([0.0, 1.0, 2.0, 3.0, 4.0])\n",
    "print(\"\\nFloat tensor:\")\n",
    "print(a.dtype)\n",
    "print(a.type())\n",
    "\n",
    "#Specify the data type of a tensor in the constructor using the parameter dtype\n",
    "#Effectively a data type override\n",
    "a = torch.tensor([0, 1, 2, 3, 4], dtype=torch.int32)  # Use integers, not floats\n",
    "print(\"\\nOverride to int32:\")\n",
    "print(a.dtype)\n",
    "\n",
    "#Using the FloatTensor method to create a float tensor explicitly\n",
    "a=torch.FloatTensor([0, 1, 2, 3, 4])\n",
    "print(\"\\nUsing FloatTensor Method:\")\n",
    "print(a.type())\n",
    "print(a)\n",
    "\n",
    "#Convert the tensor type using methods\n",
    "a=torch.tensor([0,1,2,3,4]) #Tensor of long type\n",
    "a=a.type(torch.FloatTensor) #Convert to Float using the type method w argument torch.FloatTensor\n",
    "print(\"\\nType converted from long to float using type():\")\n",
    "print(a.type())\n"
   ]
  },
  {
   "cell_type": "code",
   "execution_count": 64,
   "id": "ed3fa086-ad9a-45cd-9732-c2a666ba4084",
   "metadata": {},
   "outputs": [
    {
     "name": "stdout",
     "output_type": "stream",
     "text": [
      "torch.Size([5])\n",
      "\n",
      "NumDimensions:\n",
      "1\n",
      "\n",
      "Original 1D tensor:\n",
      "tensor([1., 2., 3., 4., 5.])\n",
      "\n",
      "Converted to 2D (5x1):\n",
      "tensor([[1.],\n",
      "        [2.],\n",
      "        [3.],\n",
      "        [4.],\n",
      "        [5.]])\n"
     ]
    }
   ],
   "source": [
    "#Exploring tensor attributes\n",
    "\n",
    "#Use size method to return number of elements in a tensor\n",
    "a = torch.Tensor([0, 1, 2, 3, 4])\n",
    "print(a.size())\n",
    "\n",
    "# Determining tensor dimension or rank using ndimension()\n",
    "print(\"\\nNumDimensions:\")\n",
    "print(a.ndimension())\n",
    "\n",
    "#Converting 1D tensors to 2D tensors\n",
    "a = torch.Tensor([1, 2, 3, 4, 5]) \n",
    "a_col = a.view(5, 1)  # Convert to 2D tensor using View method, 5 rows 1 col\n",
    "print(\"\\nOriginal 1D tensor:\")\n",
    "print(a)\n",
    "print(\"\\nConverted to 2D (5x1):\")\n",
    "print(a_col)"
   ]
  },
  {
   "cell_type": "code",
   "execution_count": 72,
   "id": "872e903f-da1f-4b7f-984b-dfc19e041423",
   "metadata": {},
   "outputs": [
    {
     "name": "stdout",
     "output_type": "stream",
     "text": [
      "tensor([0., 1., 2., 3., 4.], dtype=torch.float64)\n",
      "[0. 1. 2. 3. 4.]\n",
      "tensor([ 0.1000,  2.0000,  0.3000, 10.1000], dtype=torch.float64)\n"
     ]
    }
   ],
   "source": [
    "#Pytorch tensors can be interconverted to NumPy arrays and vice versa\n",
    "import numpy as np\n",
    "import pandas as pd\n",
    "\n",
    "np_array= np.array([0.0, 1.0, 2.0, 3.0, 4.0])\n",
    "\n",
    "#convert np array to torch_tensor\n",
    "torch_tensor = torch.from_numpy(np_array)\n",
    "print(torch_tensor)\n",
    "#convert torch_tensor back to np array\n",
    "np_array_again = torch_tensor.numpy()\n",
    "print(np_array_again)\n",
    "\n",
    "pandas_series=pd.Series([0.1, 2, 0.3, 10.1])\n",
    "#Pandas to torch\n",
    "pandas_to_torch=torch.from_numpy(pandas_series.values)\n",
    "print(pandas_to_torch)"
   ]
  },
  {
   "cell_type": "code",
   "execution_count": 78,
   "id": "2181801c-2280-44e2-be30-eafbe2bd7348",
   "metadata": {},
   "outputs": [
    {
     "name": "stdout",
     "output_type": "stream",
     "text": [
      "tensor(20)\n",
      "tensor([20,  1,  2,  3,  0])\n",
      "\n",
      "New tensor d is:\n",
      "tensor([1, 2, 3])\n"
     ]
    }
   ],
   "source": [
    "#Indexing and slicing methods to access a value or set of values in a tensor\n",
    "\n",
    "c=torch.tensor([20, 1, 2, 3, 4])\n",
    "print(c[0])\n",
    "\n",
    "#Change the fifth element of the tensor from 4 to 0\n",
    "c[4]=0\n",
    "print(c)\n",
    "\n",
    "#select elements at index 1 to 4 in tensor c to new torch tensor d, not counting element at last index\n",
    "print(\"\\nNew tensor d is:\")\n",
    "d = c[1:4] #assign the 2nd and\n",
    "print(d)"
   ]
  },
  {
   "cell_type": "markdown",
   "id": "079a5b93-f564-4fe5-a6f3-59e5bd8f2334",
   "metadata": {},
   "source": [
    "## Basic 1D tensor euclidian vector operations"
   ]
  },
  {
   "cell_type": "code",
   "execution_count": 117,
   "id": "dfbafef1-b9c0-467f-9eb4-19741a868d2e",
   "metadata": {},
   "outputs": [
    {
     "name": "stdout",
     "output_type": "stream",
     "text": [
      "\n",
      "Vector addition result:\n",
      "tensor([1, 1])\n",
      "\n",
      "Vector multiplication result:\n",
      "tensor([3, 6])\n",
      "\n",
      "Element-wise product result:\n",
      "tensor([3, 4])\n",
      "\n",
      "dot product result:\n",
      "tensor(5)\n",
      "\n",
      "\n",
      "\n",
      "After adding constant 1 to tensor [1, 2, 3, -1]:\n",
      "tensor([2, 3, 4, 0])\n",
      "\n",
      "\n",
      "Mean of tensor [1, -1, 1, -1] is: tensor(0.)\n"
     ]
    }
   ],
   "source": [
    "#Vector addition , define tensors u and v of the same type\n",
    "u = torch.tensor([1, 0])  \n",
    "v = torch.tensor([0, 1])  \n",
    "z = u + v\n",
    "print(\"\\nVector addition result:\")\n",
    "print(z)\n",
    "\n",
    "#vector multiplication of a scalar\n",
    "y = torch.tensor([1, 2])  \n",
    "y = 3 * y\n",
    "print(\"\\nVector multiplication result:\")\n",
    "print(y)\n",
    "\n",
    "#Product entry-wise\n",
    "u = torch.tensor([1, 2])  \n",
    "v = torch.tensor([3, 2])  \n",
    "z = u * v \n",
    "print(\"\\nElement-wise product result:\")\n",
    "print(z)\n",
    "\n",
    "#dot product u^T*v using dot\n",
    "u = torch.tensor([1, 2])  \n",
    "v = torch.tensor([3, 1])\n",
    "result = torch.dot(u,v)\n",
    "print(\"\\ndot product result:\")\n",
    "print(result)\n",
    "print(\"\\n\")\n",
    "\n",
    "#adding constant to vector\n",
    "u=torch.tensor([1,2,3,-1])\n",
    "z= u+1 #broadcasting\n",
    "print(\"\\nAfter adding constant 1 to tensor [1, 2, 3, -1]:\")\n",
    "print(z)\n",
    "\n",
    "#apply functions to tensors\n",
    "print(\"\\n\")\n",
    "mean_a = torch.tensor([1, -1, 1, -1]).float().mean()\n",
    "print(\"Mean of tensor [1, -1, 1, -1] is:\", mean_a) #balanced tensor where mean is exactly 0."
   ]
  },
  {
   "cell_type": "code",
   "execution_count": 118,
   "id": "69e4bc9a-2da4-4251-ba74-845c93d5e0c7",
   "metadata": {},
   "outputs": [
    {
     "name": "stdout",
     "output_type": "stream",
     "text": [
      "tensor(5)\n"
     ]
    }
   ],
   "source": [
    "#Tensor universal functions\n",
    "\n",
    "#Max\n",
    "b=torch.tensor([1, -2, 3, 4, 5])\n",
    "max_b=b.max()\n",
    "print(max_b)"
   ]
  },
  {
   "cell_type": "code",
   "execution_count": 132,
   "id": "d510c8b0-304e-4a21-8aa7-5841a8595db9",
   "metadata": {},
   "outputs": [
    {
     "name": "stdout",
     "output_type": "stream",
     "text": [
      "tensor([0., 1., -0.])\n"
     ]
    }
   ],
   "source": [
    "#Create custom functions\n",
    "np.pi\n",
    "x=torch.tensor([0, np.pi/2, np.pi])\n",
    "y= torch.sin(x) #assign the tensor to the tensor y , apply the sign component to each component of the vector\n",
    "print(y.round())"
   ]
  },
  {
   "cell_type": "code",
   "execution_count": 135,
   "id": "ca7b7813-1548-450e-a44f-1d574cba0cdb",
   "metadata": {},
   "outputs": [
    {
     "data": {
      "text/plain": [
       "[<matplotlib.lines.Line2D at 0x31c3290a0>]"
      ]
     },
     "execution_count": 135,
     "metadata": {},
     "output_type": "execute_result"
    },
    {
     "data": {
      "image/png": "[encoded data removed]",
      "text/plain": [
       "<Figure size 640x480 with 1 Axes>"
      ]
     },
     "metadata": {},
     "output_type": "display_data"
    }
   ],
   "source": [
    "#Use linspace to generate evenly spaced values\n",
    "x = torch.tensor([-2, -1.5, -1, -0.5, 0, 0.5, 1, 1.5, 2]) \n",
    "x=torch.linspace(0, 2*np.pi, 100) \n",
    "y=torch.sin(x)\n",
    "\n",
    "import matplotlib.pyplot as plt\n",
    "%matplotlib inline\n",
    "plt.plot(x.numpy(),y.numpy()) #first argument converts tensor to np array "
   ]
  },
  {
   "cell_type": "code",
   "execution_count": null,
   "id": "561067d1-6424-49d9-ac70-0c2628a24c66",
   "metadata": {},
   "outputs": [],
   "source": []
  }
 ],
 "metadata": {
  "kernelspec": {
   "display_name": "Python 3 (ipykernel)",
   "language": "python",
   "name": "python3"
  },
  "language_info": {
   "codemirror_mode": {
    "name": "ipython",
    "version": 3
   },
   "file_extension": ".py",
   "mimetype": "text/x-python",
   "name": "python",
   "nbconvert_exporter": "python",
   "pygments_lexer": "ipython3",
   "version": "3.9.6"
  }
 },
 "nbformat": 4,
 "nbformat_minor": 5
}
