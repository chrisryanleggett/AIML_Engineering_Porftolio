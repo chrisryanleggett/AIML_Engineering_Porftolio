{
 "cells": [
  {
   "cell_type": "markdown",
   "id": "7b4ddefc-9435-4f29-b943-3d37bced6dfe",
   "metadata": {},
   "source": [
    "Text data requires preprocessing (tokenization and padding).  We can use TensorFlow's TextVectorization l ayer to convert text data into numerical format for model training."
   ]
  },
  {
   "cell_type": "code",
   "execution_count": 3,
   "id": "5b2478c8-4653-4fae-9a7e-fbd1959cf434",
   "metadata": {},
   "outputs": [
    {
     "name": "stdout",
     "output_type": "stream",
     "text": [
      "Vectorized text data is:\n",
      " [[ 8  4 11  2  0  0  0  0  0  0]\n",
      " [ 3  5 10  7  2  0  0  0  0  0]\n",
      " [ 4 12  2  0  0  0  0  0  0  0]\n",
      " [ 3  5  9  6  0  0  0  0  0  0]]\n"
     ]
    }
   ],
   "source": [
    "import warnings\n",
    "warnings.filterwarnings('ignore', category=UserWarning, module='urllib3')\n",
    "\n",
    "from tensorflow.keras.layers import TextVectorization\n",
    "\n",
    "#Sample text data\n",
    "texts = [\n",
    "    \"Hello, how are you?\",\n",
    "    \"I am fine, thank you!\",\n",
    "    \"How about you?\",\n",
    "    \"I am good too.\"\n",
    "]\n",
    "\n",
    "#Create the TextVectorization layer top tokenize and pad text sequences\n",
    "vectorizer = TextVectorization(output_mode='int', max_tokens=100, output_sequence_length=10)\n",
    "\n",
    "#Adapt the vectorizer to the text data\n",
    "vectorizer.adapt(texts)\n",
    "\n",
    "#Transform the text into numerical format\n",
    "text_vectorized = vectorizer(texts)\n",
    "print(\"Vectorized text data is:\\n\", text_vectorized.numpy())"
   ]
  },
  {
   "cell_type": "code",
   "execution_count": null,
   "id": "fe54679c-e8d2-45a8-ad03-07f9179d5a7f",
   "metadata": {},
   "outputs": [],
   "source": []
  }
 ],
 "metadata": {
  "kernelspec": {
   "display_name": "Python 3 (ipykernel)",
   "language": "python",
   "name": "python3"
  },
  "language_info": {
   "codemirror_mode": {
    "name": "ipython",
    "version": 3
   },
   "file_extension": ".py",
   "mimetype": "text/x-python",
   "name": "python",
   "nbconvert_exporter": "python",
   "pygments_lexer": "ipython3",
   "version": "3.9.6"
  }
 },
 "nbformat": 4,
 "nbformat_minor": 5
}
